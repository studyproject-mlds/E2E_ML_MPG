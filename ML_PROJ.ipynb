{
 "cells": [
  {
   "cell_type": "code",
   "execution_count": 1,
   "metadata": {
    "ExecuteTime": {
     "end_time": "2020-11-09T00:07:04.856598Z",
     "start_time": "2020-11-09T00:07:03.887311Z"
    },
    "hideCode": false,
    "hidePrompt": false
   },
   "outputs": [],
   "source": [
    "!rm -rf .git* .dvc* data .study_project/"
   ]
  },
  {
   "cell_type": "code",
   "execution_count": 10,
   "metadata": {
    "ExecuteTime": {
     "end_time": "2020-11-09T00:12:27.188479Z",
     "start_time": "2020-11-09T00:12:27.144774Z"
    },
    "hideCode": false,
    "hidePrompt": false
   },
   "outputs": [],
   "source": [
    "%load_ext autoreload\n",
    "%autoreload 2"
   ]
  },
  {
   "cell_type": "code",
   "execution_count": 11,
   "metadata": {
    "ExecuteTime": {
     "end_time": "2020-11-09T00:12:27.773479Z",
     "start_time": "2020-11-09T00:12:27.746368Z"
    },
    "hideCode": false,
    "hidePrompt": false
   },
   "outputs": [],
   "source": [
    "import pandas as pd\n",
    "from sklearn.model_selection import train_test_split"
   ]
  },
  {
   "cell_type": "code",
   "execution_count": 12,
   "metadata": {
    "ExecuteTime": {
     "end_time": "2020-11-09T00:12:28.316843Z",
     "start_time": "2020-11-09T00:12:28.287328Z"
    },
    "hideCode": false,
    "hidePrompt": false
   },
   "outputs": [],
   "source": [
    "from study_project import StudyProject"
   ]
  },
  {
   "cell_type": "markdown",
   "metadata": {
    "hideCode": false,
    "hidePrompt": false
   },
   "source": [
    "# Project"
   ]
  },
  {
   "cell_type": "code",
   "execution_count": 7,
   "metadata": {
    "ExecuteTime": {
     "end_time": "2020-11-09T00:07:53.534581Z",
     "start_time": "2020-11-09T00:07:45.280458Z"
    },
    "code_folding": [
     2
    ],
    "hideCode": false,
    "hidePrompt": false,
    "scrolled": true
   },
   "outputs": [
    {
     "name": "stdout",
     "output_type": "stream",
     "text": [
      "Project 'E2E ML Project | MPG' (v0) : loaded\n"
     ]
    }
   ],
   "source": [
    "def setUpProject(proj):\n",
    "    url=\"http://archive.ics.uci.edu/ml/machine-learning-databases/auto-mpg/auto-mpg.data\"\n",
    "    cols = ['MPG','Cylinders','Displacement','Horsepower','Weight',\n",
    "                'Acceleration', 'Model Year', 'Origin']\n",
    "    # reading the .data file using pandas\n",
    "    df = pd.read_csv(url, names=cols, na_values = \"?\",\n",
    "                    comment = '\\t',\n",
    "                    sep= \" \",\n",
    "                    skipinitialspace=True)\n",
    "    #making a copy of the dataframe\n",
    "    data = df.copy()\n",
    "    train,test = train_test_split(data, random_state=0)\n",
    "    proj.saveData(id=\"MPG\",\n",
    "                 train=train,\n",
    "                 test=test,\n",
    "                 target=\"MPG\")\n",
    "\n",
    "proj_ml=StudyProject.getOrCreate(id=\"E2E ML Project | MPG\",setUp=setUpProject)"
   ]
  },
  {
   "cell_type": "code",
   "execution_count": 6,
   "metadata": {
    "ExecuteTime": {
     "end_time": "2020-11-08T23:40:08.459141Z",
     "start_time": "2020-11-08T23:40:08.402263Z"
    },
    "hideCode": false,
    "hidePrompt": false
   },
   "outputs": [
    {
     "data": {
      "text/html": [
       "<div>\n",
       "<style scoped>\n",
       "    .dataframe tbody tr th:only-of-type {\n",
       "        vertical-align: middle;\n",
       "    }\n",
       "\n",
       "    .dataframe tbody tr th {\n",
       "        vertical-align: top;\n",
       "    }\n",
       "\n",
       "    .dataframe thead th {\n",
       "        text-align: right;\n",
       "    }\n",
       "</style>\n",
       "<table border=\"1\" class=\"dataframe\">\n",
       "  <thead>\n",
       "    <tr style=\"text-align: right;\">\n",
       "      <th></th>\n",
       "      <th>MPG</th>\n",
       "      <th>Cylinders</th>\n",
       "      <th>Displacement</th>\n",
       "      <th>Horsepower</th>\n",
       "      <th>Weight</th>\n",
       "      <th>Acceleration</th>\n",
       "      <th>Model Year</th>\n",
       "      <th>Origin</th>\n",
       "    </tr>\n",
       "  </thead>\n",
       "  <tbody>\n",
       "    <tr>\n",
       "      <th>254</th>\n",
       "      <td>20.2</td>\n",
       "      <td>6</td>\n",
       "      <td>200.0</td>\n",
       "      <td>85.0</td>\n",
       "      <td>2965.0</td>\n",
       "      <td>15.8</td>\n",
       "      <td>78</td>\n",
       "      <td>1</td>\n",
       "    </tr>\n",
       "    <tr>\n",
       "      <th>246</th>\n",
       "      <td>32.8</td>\n",
       "      <td>4</td>\n",
       "      <td>78.0</td>\n",
       "      <td>52.0</td>\n",
       "      <td>1985.0</td>\n",
       "      <td>19.4</td>\n",
       "      <td>78</td>\n",
       "      <td>3</td>\n",
       "    </tr>\n",
       "    <tr>\n",
       "      <th>282</th>\n",
       "      <td>22.3</td>\n",
       "      <td>4</td>\n",
       "      <td>140.0</td>\n",
       "      <td>88.0</td>\n",
       "      <td>2890.0</td>\n",
       "      <td>17.3</td>\n",
       "      <td>79</td>\n",
       "      <td>1</td>\n",
       "    </tr>\n",
       "    <tr>\n",
       "      <th>81</th>\n",
       "      <td>28.0</td>\n",
       "      <td>4</td>\n",
       "      <td>97.0</td>\n",
       "      <td>92.0</td>\n",
       "      <td>2288.0</td>\n",
       "      <td>17.0</td>\n",
       "      <td>72</td>\n",
       "      <td>3</td>\n",
       "    </tr>\n",
       "    <tr>\n",
       "      <th>347</th>\n",
       "      <td>37.0</td>\n",
       "      <td>4</td>\n",
       "      <td>85.0</td>\n",
       "      <td>65.0</td>\n",
       "      <td>1975.0</td>\n",
       "      <td>19.4</td>\n",
       "      <td>81</td>\n",
       "      <td>3</td>\n",
       "    </tr>\n",
       "    <tr>\n",
       "      <th>...</th>\n",
       "      <td>...</td>\n",
       "      <td>...</td>\n",
       "      <td>...</td>\n",
       "      <td>...</td>\n",
       "      <td>...</td>\n",
       "      <td>...</td>\n",
       "      <td>...</td>\n",
       "      <td>...</td>\n",
       "    </tr>\n",
       "    <tr>\n",
       "      <th>323</th>\n",
       "      <td>27.9</td>\n",
       "      <td>4</td>\n",
       "      <td>156.0</td>\n",
       "      <td>105.0</td>\n",
       "      <td>2800.0</td>\n",
       "      <td>14.4</td>\n",
       "      <td>80</td>\n",
       "      <td>1</td>\n",
       "    </tr>\n",
       "    <tr>\n",
       "      <th>192</th>\n",
       "      <td>22.0</td>\n",
       "      <td>6</td>\n",
       "      <td>250.0</td>\n",
       "      <td>105.0</td>\n",
       "      <td>3353.0</td>\n",
       "      <td>14.5</td>\n",
       "      <td>76</td>\n",
       "      <td>1</td>\n",
       "    </tr>\n",
       "    <tr>\n",
       "      <th>117</th>\n",
       "      <td>29.0</td>\n",
       "      <td>4</td>\n",
       "      <td>68.0</td>\n",
       "      <td>49.0</td>\n",
       "      <td>1867.0</td>\n",
       "      <td>19.5</td>\n",
       "      <td>73</td>\n",
       "      <td>2</td>\n",
       "    </tr>\n",
       "    <tr>\n",
       "      <th>47</th>\n",
       "      <td>19.0</td>\n",
       "      <td>6</td>\n",
       "      <td>250.0</td>\n",
       "      <td>100.0</td>\n",
       "      <td>3282.0</td>\n",
       "      <td>15.0</td>\n",
       "      <td>71</td>\n",
       "      <td>1</td>\n",
       "    </tr>\n",
       "    <tr>\n",
       "      <th>172</th>\n",
       "      <td>25.0</td>\n",
       "      <td>4</td>\n",
       "      <td>90.0</td>\n",
       "      <td>71.0</td>\n",
       "      <td>2223.0</td>\n",
       "      <td>16.5</td>\n",
       "      <td>75</td>\n",
       "      <td>2</td>\n",
       "    </tr>\n",
       "  </tbody>\n",
       "</table>\n",
       "<p>298 rows × 8 columns</p>\n",
       "</div>"
      ],
      "text/plain": [
       "      MPG  Cylinders  Displacement  Horsepower  Weight  Acceleration  \\\n",
       "254  20.2          6         200.0        85.0  2965.0          15.8   \n",
       "246  32.8          4          78.0        52.0  1985.0          19.4   \n",
       "282  22.3          4         140.0        88.0  2890.0          17.3   \n",
       "81   28.0          4          97.0        92.0  2288.0          17.0   \n",
       "347  37.0          4          85.0        65.0  1975.0          19.4   \n",
       "..    ...        ...           ...         ...     ...           ...   \n",
       "323  27.9          4         156.0       105.0  2800.0          14.4   \n",
       "192  22.0          6         250.0       105.0  3353.0          14.5   \n",
       "117  29.0          4          68.0        49.0  1867.0          19.5   \n",
       "47   19.0          6         250.0       100.0  3282.0          15.0   \n",
       "172  25.0          4          90.0        71.0  2223.0          16.5   \n",
       "\n",
       "     Model Year  Origin  \n",
       "254          78       1  \n",
       "246          78       3  \n",
       "282          79       1  \n",
       "81           72       3  \n",
       "347          81       3  \n",
       "..          ...     ...  \n",
       "323          80       1  \n",
       "192          76       1  \n",
       "117          73       2  \n",
       "47           71       1  \n",
       "172          75       2  \n",
       "\n",
       "[298 rows x 8 columns]"
      ]
     },
     "execution_count": 6,
     "metadata": {},
     "output_type": "execute_result"
    }
   ],
   "source": [
    "proj_ml.data.MPG.train"
   ]
  },
  {
   "cell_type": "code",
   "execution_count": 8,
   "metadata": {
    "ExecuteTime": {
     "end_time": "2020-11-09T00:09:53.848638Z",
     "start_time": "2020-11-09T00:09:53.844542Z"
    }
   },
   "outputs": [],
   "source": [
    "import cProfile"
   ]
  },
  {
   "cell_type": "code",
   "execution_count": 7,
   "metadata": {
    "ExecuteTime": {
     "end_time": "2020-11-09T00:09:51.461646Z",
     "start_time": "2020-11-09T00:09:51.438512Z"
    }
   },
   "outputs": [
    {
     "ename": "NameError",
     "evalue": "name 'cProfile' is not defined",
     "output_type": "error",
     "traceback": [
      "\u001b[0;31m---------------------------------------------------------------------------\u001b[0m",
      "\u001b[0;31mNameError\u001b[0m                                 Traceback (most recent call last)",
      "\u001b[0;32m<ipython-input-7-a3f4e73ce057>\u001b[0m in \u001b[0;36m<module>\u001b[0;34m\u001b[0m\n\u001b[0;32m----> 1\u001b[0;31m \u001b[0mpr\u001b[0m \u001b[0;34m=\u001b[0m \u001b[0mcProfile\u001b[0m\u001b[0;34m.\u001b[0m\u001b[0mProfile\u001b[0m\u001b[0;34m(\u001b[0m\u001b[0;34m)\u001b[0m\u001b[0;34m\u001b[0m\u001b[0;34m\u001b[0m\u001b[0m\n\u001b[0m\u001b[1;32m      2\u001b[0m \u001b[0mpr\u001b[0m\u001b[0;34m.\u001b[0m\u001b[0menable\u001b[0m\u001b[0;34m(\u001b[0m\u001b[0;34m)\u001b[0m\u001b[0;34m\u001b[0m\u001b[0;34m\u001b[0m\u001b[0m\n\u001b[1;32m      3\u001b[0m \u001b[0;31m#code to execute\u001b[0m\u001b[0;34m\u001b[0m\u001b[0;34m\u001b[0m\u001b[0;34m\u001b[0m\u001b[0m\n",
      "\u001b[0;31mNameError\u001b[0m: name 'cProfile' is not defined"
     ]
    }
   ],
   "source": []
  },
  {
   "cell_type": "code",
   "execution_count": 16,
   "metadata": {
    "ExecuteTime": {
     "end_time": "2020-11-09T00:15:40.779647Z",
     "start_time": "2020-11-09T00:15:35.574830Z"
    },
    "hideCode": false,
    "hidePrompt": false,
    "scrolled": true
   },
   "outputs": [
    {
     "name": "stdout",
     "output_type": "stream",
     "text": [
      "time git branch --show-current: 0.04487323760986328\n",
      "time git diff --name-only: 0.2197434902191162\n",
      "time git  -c core.hooksPath=/dev/null checkout study_project/study_project: 0.16697478294372559\n",
      "time git branch  --list 'study_project/project-e2e-ml-project-mpg-v0' | tr -d ' ': 0.0810081958770752\n",
      "time git branch  --list 'study_project/project-e2e-ml-project-mpg-v0' | tr -d ' ': 0.08763456344604492\n",
      "time git diff --name-only: 0.048287153244018555\n",
      "time git checkout study_project/project-e2e-ml-project-mpg-v0: 2.2416326999664307\n",
      "time git diff --name-only: 0.0466766357421875\n",
      "time git  -c core.hooksPath=/dev/null checkout study_project/study_project: 0.17948389053344727\n",
      "time git branch --show-current: 0.03848099708557129\n",
      "time git diff --name-only: 0.058679819107055664\n",
      "time git  -c core.hooksPath=/dev/null checkout master: 0.1861867904663086\n",
      "Project 'E2E ML Project | MPG' (v0) : loaded\n"
     ]
    }
   ],
   "source": [
    "proj_ml2=StudyProject.getOrCreate(id=\"E2E ML Project | MPG\")"
   ]
  },
  {
   "cell_type": "code",
   "execution_count": 18,
   "metadata": {
    "ExecuteTime": {
     "end_time": "2020-11-09T00:16:08.260862Z",
     "start_time": "2020-11-09T00:16:08.206794Z"
    }
   },
   "outputs": [
    {
     "data": {
      "text/html": [
       "<div>\n",
       "<style scoped>\n",
       "    .dataframe tbody tr th:only-of-type {\n",
       "        vertical-align: middle;\n",
       "    }\n",
       "\n",
       "    .dataframe tbody tr th {\n",
       "        vertical-align: top;\n",
       "    }\n",
       "\n",
       "    .dataframe thead th {\n",
       "        text-align: right;\n",
       "    }\n",
       "</style>\n",
       "<table border=\"1\" class=\"dataframe\">\n",
       "  <thead>\n",
       "    <tr style=\"text-align: right;\">\n",
       "      <th></th>\n",
       "      <th>MPG</th>\n",
       "      <th>Cylinders</th>\n",
       "      <th>Displacement</th>\n",
       "      <th>Horsepower</th>\n",
       "      <th>Weight</th>\n",
       "      <th>Acceleration</th>\n",
       "      <th>Model Year</th>\n",
       "      <th>Origin</th>\n",
       "    </tr>\n",
       "  </thead>\n",
       "  <tbody>\n",
       "    <tr>\n",
       "      <th>0</th>\n",
       "      <td>20.2</td>\n",
       "      <td>6</td>\n",
       "      <td>200.0</td>\n",
       "      <td>85.0</td>\n",
       "      <td>2965.0</td>\n",
       "      <td>15.8</td>\n",
       "      <td>78</td>\n",
       "      <td>1</td>\n",
       "    </tr>\n",
       "    <tr>\n",
       "      <th>1</th>\n",
       "      <td>32.8</td>\n",
       "      <td>4</td>\n",
       "      <td>78.0</td>\n",
       "      <td>52.0</td>\n",
       "      <td>1985.0</td>\n",
       "      <td>19.4</td>\n",
       "      <td>78</td>\n",
       "      <td>3</td>\n",
       "    </tr>\n",
       "    <tr>\n",
       "      <th>2</th>\n",
       "      <td>22.3</td>\n",
       "      <td>4</td>\n",
       "      <td>140.0</td>\n",
       "      <td>88.0</td>\n",
       "      <td>2890.0</td>\n",
       "      <td>17.3</td>\n",
       "      <td>79</td>\n",
       "      <td>1</td>\n",
       "    </tr>\n",
       "    <tr>\n",
       "      <th>3</th>\n",
       "      <td>28.0</td>\n",
       "      <td>4</td>\n",
       "      <td>97.0</td>\n",
       "      <td>92.0</td>\n",
       "      <td>2288.0</td>\n",
       "      <td>17.0</td>\n",
       "      <td>72</td>\n",
       "      <td>3</td>\n",
       "    </tr>\n",
       "    <tr>\n",
       "      <th>4</th>\n",
       "      <td>37.0</td>\n",
       "      <td>4</td>\n",
       "      <td>85.0</td>\n",
       "      <td>65.0</td>\n",
       "      <td>1975.0</td>\n",
       "      <td>19.4</td>\n",
       "      <td>81</td>\n",
       "      <td>3</td>\n",
       "    </tr>\n",
       "    <tr>\n",
       "      <th>...</th>\n",
       "      <td>...</td>\n",
       "      <td>...</td>\n",
       "      <td>...</td>\n",
       "      <td>...</td>\n",
       "      <td>...</td>\n",
       "      <td>...</td>\n",
       "      <td>...</td>\n",
       "      <td>...</td>\n",
       "    </tr>\n",
       "    <tr>\n",
       "      <th>293</th>\n",
       "      <td>27.9</td>\n",
       "      <td>4</td>\n",
       "      <td>156.0</td>\n",
       "      <td>105.0</td>\n",
       "      <td>2800.0</td>\n",
       "      <td>14.4</td>\n",
       "      <td>80</td>\n",
       "      <td>1</td>\n",
       "    </tr>\n",
       "    <tr>\n",
       "      <th>294</th>\n",
       "      <td>22.0</td>\n",
       "      <td>6</td>\n",
       "      <td>250.0</td>\n",
       "      <td>105.0</td>\n",
       "      <td>3353.0</td>\n",
       "      <td>14.5</td>\n",
       "      <td>76</td>\n",
       "      <td>1</td>\n",
       "    </tr>\n",
       "    <tr>\n",
       "      <th>295</th>\n",
       "      <td>29.0</td>\n",
       "      <td>4</td>\n",
       "      <td>68.0</td>\n",
       "      <td>49.0</td>\n",
       "      <td>1867.0</td>\n",
       "      <td>19.5</td>\n",
       "      <td>73</td>\n",
       "      <td>2</td>\n",
       "    </tr>\n",
       "    <tr>\n",
       "      <th>296</th>\n",
       "      <td>19.0</td>\n",
       "      <td>6</td>\n",
       "      <td>250.0</td>\n",
       "      <td>100.0</td>\n",
       "      <td>3282.0</td>\n",
       "      <td>15.0</td>\n",
       "      <td>71</td>\n",
       "      <td>1</td>\n",
       "    </tr>\n",
       "    <tr>\n",
       "      <th>297</th>\n",
       "      <td>25.0</td>\n",
       "      <td>4</td>\n",
       "      <td>90.0</td>\n",
       "      <td>71.0</td>\n",
       "      <td>2223.0</td>\n",
       "      <td>16.5</td>\n",
       "      <td>75</td>\n",
       "      <td>2</td>\n",
       "    </tr>\n",
       "  </tbody>\n",
       "</table>\n",
       "<p>298 rows × 8 columns</p>\n",
       "</div>"
      ],
      "text/plain": [
       "      MPG  Cylinders  Displacement  Horsepower  Weight  Acceleration  \\\n",
       "0    20.2          6         200.0        85.0  2965.0          15.8   \n",
       "1    32.8          4          78.0        52.0  1985.0          19.4   \n",
       "2    22.3          4         140.0        88.0  2890.0          17.3   \n",
       "3    28.0          4          97.0        92.0  2288.0          17.0   \n",
       "4    37.0          4          85.0        65.0  1975.0          19.4   \n",
       "..    ...        ...           ...         ...     ...           ...   \n",
       "293  27.9          4         156.0       105.0  2800.0          14.4   \n",
       "294  22.0          6         250.0       105.0  3353.0          14.5   \n",
       "295  29.0          4          68.0        49.0  1867.0          19.5   \n",
       "296  19.0          6         250.0       100.0  3282.0          15.0   \n",
       "297  25.0          4          90.0        71.0  2223.0          16.5   \n",
       "\n",
       "     Model Year  Origin  \n",
       "0            78       1  \n",
       "1            78       3  \n",
       "2            79       1  \n",
       "3            72       3  \n",
       "4            81       3  \n",
       "..          ...     ...  \n",
       "293          80       1  \n",
       "294          76       1  \n",
       "295          73       2  \n",
       "296          71       1  \n",
       "297          75       2  \n",
       "\n",
       "[298 rows x 8 columns]"
      ]
     },
     "execution_count": 18,
     "metadata": {},
     "output_type": "execute_result"
    }
   ],
   "source": [
    "proj_ml2.data.MPG.train"
   ]
  },
  {
   "cell_type": "code",
   "execution_count": 22,
   "metadata": {
    "ExecuteTime": {
     "end_time": "2020-11-09T00:20:48.488650Z",
     "start_time": "2020-11-09T00:20:44.667912Z"
    }
   },
   "outputs": [
    {
     "name": "stdout",
     "output_type": "stream",
     "text": [
      "time git branch --show-current: 0.037349700927734375\n",
      "time git diff --name-only: 0.17218351364135742\n",
      "time git  -c core.hooksPath=/dev/null checkout study_project/study_project: 0.13418364524841309\n",
      "time git branch  --list 'study_project/project-e2e-ml-project-mpg2-v0' | tr -d ' ': 0.054744720458984375\n",
      "time git diff --name-only: 0.05495262145996094\n",
      "time git checkout study_project/project-e2e-ml-project-mpg2-v0: 2.4586119651794434\n",
      "time git diff --name-only: 0.0404813289642334\n",
      "time git  -c core.hooksPath=/dev/null checkout study_project/study_project: 0.14142870903015137\n",
      "time git branch --show-current: 0.031772613525390625\n",
      "time git diff --name-only: 0.046988725662231445\n",
      "time git  -c core.hooksPath=/dev/null checkout master: 0.17360258102416992\n",
      "Project 'E2E ML Project | MPG2' (v0) : loaded\n"
     ]
    }
   ],
   "source": [
    "def setUpProject2(proj):\n",
    "    url=\"http://archive.ics.uci.edu/ml/machine-learning-databases/auto-mpg/auto-mpg.data\"\n",
    "    cols = ['MPG','Cylinders','Displacement','Horsepower','Weight',\n",
    "                'Acceleration', 'Model Year', 'Origin']\n",
    "    # reading the .data file using pandas\n",
    "    df = pd.read_csv(url, names=cols, na_values = \"?\",\n",
    "                    comment = '\\t',\n",
    "                    sep= \" \",\n",
    "                    skipinitialspace=True)\n",
    "    #making a copy of the dataframe\n",
    "    data = df.copy()\n",
    "    train,test = train_test_split(data, random_state=0)\n",
    "    proj.saveData(id=\"MPG\",\n",
    "                 train=train,\n",
    "                 test=test,\n",
    "                 target=\"MPG\")\n",
    "\n",
    "proj_ml2=StudyProject.getOrCreate(id=\"E2E ML Project | MPG2\",setUp=setUpProject2)"
   ]
  },
  {
   "cell_type": "code",
   "execution_count": 21,
   "metadata": {
    "ExecuteTime": {
     "end_time": "2020-11-09T00:17:10.726466Z",
     "start_time": "2020-11-09T00:17:10.673485Z"
    }
   },
   "outputs": [
    {
     "data": {
      "text/html": [
       "<div>\n",
       "<style scoped>\n",
       "    .dataframe tbody tr th:only-of-type {\n",
       "        vertical-align: middle;\n",
       "    }\n",
       "\n",
       "    .dataframe tbody tr th {\n",
       "        vertical-align: top;\n",
       "    }\n",
       "\n",
       "    .dataframe thead th {\n",
       "        text-align: right;\n",
       "    }\n",
       "</style>\n",
       "<table border=\"1\" class=\"dataframe\">\n",
       "  <thead>\n",
       "    <tr style=\"text-align: right;\">\n",
       "      <th></th>\n",
       "      <th>MPG</th>\n",
       "      <th>Cylinders</th>\n",
       "      <th>Displacement</th>\n",
       "      <th>Horsepower</th>\n",
       "      <th>Weight</th>\n",
       "      <th>Acceleration</th>\n",
       "      <th>Model Year</th>\n",
       "      <th>Origin</th>\n",
       "    </tr>\n",
       "  </thead>\n",
       "  <tbody>\n",
       "    <tr>\n",
       "      <th>254</th>\n",
       "      <td>20.2</td>\n",
       "      <td>6</td>\n",
       "      <td>200.0</td>\n",
       "      <td>85.0</td>\n",
       "      <td>2965.0</td>\n",
       "      <td>15.8</td>\n",
       "      <td>78</td>\n",
       "      <td>1</td>\n",
       "    </tr>\n",
       "    <tr>\n",
       "      <th>246</th>\n",
       "      <td>32.8</td>\n",
       "      <td>4</td>\n",
       "      <td>78.0</td>\n",
       "      <td>52.0</td>\n",
       "      <td>1985.0</td>\n",
       "      <td>19.4</td>\n",
       "      <td>78</td>\n",
       "      <td>3</td>\n",
       "    </tr>\n",
       "    <tr>\n",
       "      <th>282</th>\n",
       "      <td>22.3</td>\n",
       "      <td>4</td>\n",
       "      <td>140.0</td>\n",
       "      <td>88.0</td>\n",
       "      <td>2890.0</td>\n",
       "      <td>17.3</td>\n",
       "      <td>79</td>\n",
       "      <td>1</td>\n",
       "    </tr>\n",
       "    <tr>\n",
       "      <th>81</th>\n",
       "      <td>28.0</td>\n",
       "      <td>4</td>\n",
       "      <td>97.0</td>\n",
       "      <td>92.0</td>\n",
       "      <td>2288.0</td>\n",
       "      <td>17.0</td>\n",
       "      <td>72</td>\n",
       "      <td>3</td>\n",
       "    </tr>\n",
       "    <tr>\n",
       "      <th>347</th>\n",
       "      <td>37.0</td>\n",
       "      <td>4</td>\n",
       "      <td>85.0</td>\n",
       "      <td>65.0</td>\n",
       "      <td>1975.0</td>\n",
       "      <td>19.4</td>\n",
       "      <td>81</td>\n",
       "      <td>3</td>\n",
       "    </tr>\n",
       "    <tr>\n",
       "      <th>...</th>\n",
       "      <td>...</td>\n",
       "      <td>...</td>\n",
       "      <td>...</td>\n",
       "      <td>...</td>\n",
       "      <td>...</td>\n",
       "      <td>...</td>\n",
       "      <td>...</td>\n",
       "      <td>...</td>\n",
       "    </tr>\n",
       "    <tr>\n",
       "      <th>323</th>\n",
       "      <td>27.9</td>\n",
       "      <td>4</td>\n",
       "      <td>156.0</td>\n",
       "      <td>105.0</td>\n",
       "      <td>2800.0</td>\n",
       "      <td>14.4</td>\n",
       "      <td>80</td>\n",
       "      <td>1</td>\n",
       "    </tr>\n",
       "    <tr>\n",
       "      <th>192</th>\n",
       "      <td>22.0</td>\n",
       "      <td>6</td>\n",
       "      <td>250.0</td>\n",
       "      <td>105.0</td>\n",
       "      <td>3353.0</td>\n",
       "      <td>14.5</td>\n",
       "      <td>76</td>\n",
       "      <td>1</td>\n",
       "    </tr>\n",
       "    <tr>\n",
       "      <th>117</th>\n",
       "      <td>29.0</td>\n",
       "      <td>4</td>\n",
       "      <td>68.0</td>\n",
       "      <td>49.0</td>\n",
       "      <td>1867.0</td>\n",
       "      <td>19.5</td>\n",
       "      <td>73</td>\n",
       "      <td>2</td>\n",
       "    </tr>\n",
       "    <tr>\n",
       "      <th>47</th>\n",
       "      <td>19.0</td>\n",
       "      <td>6</td>\n",
       "      <td>250.0</td>\n",
       "      <td>100.0</td>\n",
       "      <td>3282.0</td>\n",
       "      <td>15.0</td>\n",
       "      <td>71</td>\n",
       "      <td>1</td>\n",
       "    </tr>\n",
       "    <tr>\n",
       "      <th>172</th>\n",
       "      <td>25.0</td>\n",
       "      <td>4</td>\n",
       "      <td>90.0</td>\n",
       "      <td>71.0</td>\n",
       "      <td>2223.0</td>\n",
       "      <td>16.5</td>\n",
       "      <td>75</td>\n",
       "      <td>2</td>\n",
       "    </tr>\n",
       "  </tbody>\n",
       "</table>\n",
       "<p>298 rows × 8 columns</p>\n",
       "</div>"
      ],
      "text/plain": [
       "      MPG  Cylinders  Displacement  Horsepower  Weight  Acceleration  \\\n",
       "254  20.2          6         200.0        85.0  2965.0          15.8   \n",
       "246  32.8          4          78.0        52.0  1985.0          19.4   \n",
       "282  22.3          4         140.0        88.0  2890.0          17.3   \n",
       "81   28.0          4          97.0        92.0  2288.0          17.0   \n",
       "347  37.0          4          85.0        65.0  1975.0          19.4   \n",
       "..    ...        ...           ...         ...     ...           ...   \n",
       "323  27.9          4         156.0       105.0  2800.0          14.4   \n",
       "192  22.0          6         250.0       105.0  3353.0          14.5   \n",
       "117  29.0          4          68.0        49.0  1867.0          19.5   \n",
       "47   19.0          6         250.0       100.0  3282.0          15.0   \n",
       "172  25.0          4          90.0        71.0  2223.0          16.5   \n",
       "\n",
       "     Model Year  Origin  \n",
       "254          78       1  \n",
       "246          78       3  \n",
       "282          79       1  \n",
       "81           72       3  \n",
       "347          81       3  \n",
       "..          ...     ...  \n",
       "323          80       1  \n",
       "192          76       1  \n",
       "117          73       2  \n",
       "47           71       1  \n",
       "172          75       2  \n",
       "\n",
       "[298 rows x 8 columns]"
      ]
     },
     "execution_count": 21,
     "metadata": {},
     "output_type": "execute_result"
    }
   ],
   "source": [
    "proj_ml2.data.MPG.train"
   ]
  },
  {
   "cell_type": "markdown",
   "metadata": {
    "hideCode": false,
    "hidePrompt": false
   },
   "source": [
    "# Eda "
   ]
  },
  {
   "cell_type": "code",
   "execution_count": 14,
   "metadata": {
    "ExecuteTime": {
     "end_time": "2020-11-08T21:57:45.476037Z",
     "start_time": "2020-11-08T21:57:45.445351Z"
    },
    "hideCode": false,
    "hidePrompt": false
   },
   "outputs": [],
   "source": [
    "import inspect"
   ]
  },
  {
   "cell_type": "code",
   "execution_count": 8,
   "metadata": {
    "ExecuteTime": {
     "end_time": "2020-11-08T21:46:35.741604Z",
     "start_time": "2020-11-08T21:46:35.706427Z"
    },
    "hideCode": false,
    "hidePrompt": false
   },
   "outputs": [
    {
     "name": "stdout",
     "output_type": "stream",
     "text": [
      "Study 'EDA' : creating...\n"
     ]
    }
   ],
   "source": [
    "proj_ml.getOrCreateStudy(id=\"EDA\",setUp=setUpEDA)"
   ]
  },
  {
   "cell_type": "code",
   "execution_count": null,
   "metadata": {
    "hideCode": false,
    "hidePrompt": false
   },
   "outputs": [],
   "source": []
  }
 ],
 "metadata": {
  "hide_code_all_hidden": false,
  "kernelspec": {
   "display_name": "Python 3",
   "language": "python",
   "name": "python3"
  },
  "language_info": {
   "codemirror_mode": {
    "name": "ipython",
    "version": 3
   },
   "file_extension": ".py",
   "mimetype": "text/x-python",
   "name": "python",
   "nbconvert_exporter": "python",
   "pygments_lexer": "ipython3",
   "version": "3.8.6"
  },
  "toc": {
   "base_numbering": 1,
   "nav_menu": {},
   "number_sections": true,
   "sideBar": true,
   "skip_h1_title": false,
   "title_cell": "Table of Contents",
   "title_sidebar": "Contents",
   "toc_cell": false,
   "toc_position": {},
   "toc_section_display": true,
   "toc_window_display": false
  }
 },
 "nbformat": 4,
 "nbformat_minor": 4
}
